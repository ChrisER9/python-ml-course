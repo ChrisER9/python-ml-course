{
 "cells": [
  {
   "cell_type": "markdown",
   "id": "479b8a5f",
   "metadata": {},
   "source": [
    "# Modelos de Regresión Lineal\n",
    "## 1. Modelos con datos simulados\n",
    "* y = a + b * x\n",
    "\n",
    "* x : 100 valores distribuidos segun una N(1.5, 2.5)\n",
    "\n",
    "* Ye = 5 + 1.9 * x\n",
    "\n",
    "* e estará distribuidida segun N(0,0.8)"
   ]
  },
  {
   "cell_type": "code",
   "execution_count": 1,
   "id": "2dee2d44",
   "metadata": {},
   "outputs": [],
   "source": [
    "import pandas as pd\n",
    "import numpy as np"
   ]
  },
  {
   "cell_type": "code",
   "execution_count": 2,
   "id": "5bc1b8f6",
   "metadata": {},
   "outputs": [
    {
     "name": "stdout",
     "output_type": "stream",
     "text": [
      "[-0.21226876  1.21888882  1.64373656  0.08215801  0.43581709 -0.19265369\n",
      " -1.18048948  1.59987246  0.63218752 -0.53025611]\n"
     ]
    }
   ],
   "source": [
    "#Ejemplo\n",
    "w = np.random.randn(10)\n",
    "print(w)"
   ]
  },
  {
   "cell_type": "code",
   "execution_count": 3,
   "id": "4f448fac",
   "metadata": {},
   "outputs": [],
   "source": [
    "x = 1.5 + 2.5*np.random.randn(100) #np.random.randn reproduce 100 \n",
    "#valores siguiendo la distribucion normal\n",
    "e = 0 + 0.9*np.random.randn(100)"
   ]
  },
  {
   "cell_type": "code",
   "execution_count": 4,
   "id": "0248d003",
   "metadata": {},
   "outputs": [],
   "source": [
    "y_pred = 5 + 1.9*x"
   ]
  },
  {
   "cell_type": "code",
   "execution_count": 5,
   "id": "347f2819",
   "metadata": {},
   "outputs": [],
   "source": [
    "y_act = 5 + 1.9*x + e"
   ]
  },
  {
   "cell_type": "code",
   "execution_count": 6,
   "id": "94537089",
   "metadata": {},
   "outputs": [],
   "source": [
    "#Con estas instrucciones pasamos los valores a lista\n",
    "x_list = x.tolist()\n",
    "y_pred_list = y_pred.tolist()\n",
    "y_act_list = y_act.tolist()"
   ]
  },
  {
   "cell_type": "code",
   "execution_count": 7,
   "id": "d9703c76",
   "metadata": {},
   "outputs": [],
   "source": [
    "#Pasamos los valores de als lista a un dataframe\n",
    "data = pd.DataFrame({\n",
    "    \"X\":x_list,\n",
    "    \"Y\":y_act_list,\n",
    "    \"Y_pred\":y_pred_list\n",
    "})"
   ]
  },
  {
   "cell_type": "code",
   "execution_count": 8,
   "id": "e6d25e2f",
   "metadata": {},
   "outputs": [
    {
     "data": {
      "text/html": [
       "<div>\n",
       "<style scoped>\n",
       "    .dataframe tbody tr th:only-of-type {\n",
       "        vertical-align: middle;\n",
       "    }\n",
       "\n",
       "    .dataframe tbody tr th {\n",
       "        vertical-align: top;\n",
       "    }\n",
       "\n",
       "    .dataframe thead th {\n",
       "        text-align: right;\n",
       "    }\n",
       "</style>\n",
       "<table border=\"1\" class=\"dataframe\">\n",
       "  <thead>\n",
       "    <tr style=\"text-align: right;\">\n",
       "      <th></th>\n",
       "      <th>X</th>\n",
       "      <th>Y</th>\n",
       "      <th>Y_pred</th>\n",
       "    </tr>\n",
       "  </thead>\n",
       "  <tbody>\n",
       "    <tr>\n",
       "      <th>0</th>\n",
       "      <td>0.827330</td>\n",
       "      <td>7.500894</td>\n",
       "      <td>6.571927</td>\n",
       "    </tr>\n",
       "    <tr>\n",
       "      <th>1</th>\n",
       "      <td>0.040052</td>\n",
       "      <td>5.927190</td>\n",
       "      <td>5.076100</td>\n",
       "    </tr>\n",
       "    <tr>\n",
       "      <th>2</th>\n",
       "      <td>6.210777</td>\n",
       "      <td>16.237098</td>\n",
       "      <td>16.800476</td>\n",
       "    </tr>\n",
       "    <tr>\n",
       "      <th>3</th>\n",
       "      <td>1.775265</td>\n",
       "      <td>9.946543</td>\n",
       "      <td>8.373003</td>\n",
       "    </tr>\n",
       "    <tr>\n",
       "      <th>4</th>\n",
       "      <td>4.128282</td>\n",
       "      <td>11.758976</td>\n",
       "      <td>12.843737</td>\n",
       "    </tr>\n",
       "  </tbody>\n",
       "</table>\n",
       "</div>"
      ],
      "text/plain": [
       "          X          Y     Y_pred\n",
       "0  0.827330   7.500894   6.571927\n",
       "1  0.040052   5.927190   5.076100\n",
       "2  6.210777  16.237098  16.800476\n",
       "3  1.775265   9.946543   8.373003\n",
       "4  4.128282  11.758976  12.843737"
      ]
     },
     "execution_count": 8,
     "metadata": {},
     "output_type": "execute_result"
    }
   ],
   "source": [
    "data.head()"
   ]
  },
  {
   "cell_type": "code",
   "execution_count": 9,
   "id": "6071360e",
   "metadata": {},
   "outputs": [],
   "source": [
    "import matplotlib.pyplot as plt #Libreria para graficar"
   ]
  },
  {
   "cell_type": "code",
   "execution_count": 10,
   "id": "9300fa52",
   "metadata": {},
   "outputs": [],
   "source": [
    "y_mean = [np.mean(y_act) for i in range(1,len(x_list)+1)]"
   ]
  },
  {
   "cell_type": "code",
   "execution_count": 11,
   "id": "a39df83c",
   "metadata": {},
   "outputs": [
    {
     "data": {
      "text/plain": [
       "Text(0.5, 1.0, 'Valor Actual vs Predicción')"
      ]
     },
     "execution_count": 11,
     "metadata": {},
     "output_type": "execute_result"
    },
    {
     "data": {
      "image/png": "[encoded data removed]",
      "text/plain": [
       "<Figure size 640x480 with 1 Axes>"
      ]
     },
     "metadata": {},
     "output_type": "display_data"
    }
   ],
   "source": [
    "%matplotlib inline \n",
    "#El codigo anterior coloca todos los graficos en uno solo\n",
    "\n",
    "plt.plot(x, y_pred) #Linea de la predicción\n",
    "plt.plot(x, y_act, \"ro\") #Linea de los datos simulados\n",
    "plt.plot(x, y_mean, \"g\") #Linea del promedio\n",
    "plt.title(\"Valor Actual vs Predicción\") #Titulo del gráfico"
   ]
  },
  {
   "cell_type": "markdown",
   "id": "73f2a265",
   "metadata": {},
   "source": [
    "## ¿Como saber si la predicción de buena?\n",
    "\n",
    "* SST : (Suma de los Cuadrados Totales) - Variabilidad de los datos con respecto al promedio. \n",
    "\n",
    "* SSD : (Suma de los Cuadrados de las Diferencias) -  Diferencia entre los datos originales y la predicción que el modelo no es capaz de explicar (errores que deberian seguir un distribución normal)\n",
    "\n",
    "* SSR : (Suma de los Cuadrados de la Regresion) - Diferencia entre la regresión y el valor promedio. El modelo busca explicar\n",
    "\n",
    "* SST = SSD + SSR\n",
    "\n",
    "* R^2 = SSR / SST, coeficiente de determinación entre 0 y 1 "
   ]
  },
  {
   "cell_type": "code",
   "execution_count": 12,
   "id": "4a19ffb5",
   "metadata": {},
   "outputs": [],
   "source": [
    "data[\"SSR\"] = (data[\"Y_pred\"] - np.mean(y_act))**2\n",
    "data[\"SSD\"] = (data[\"Y_pred\"] - data[\"Y\"])**2\n",
    "data[\"SST\"] = (data[\"Y\"] - np.mean(y_act))**2"
   ]
  },
  {
   "cell_type": "code",
   "execution_count": 13,
   "id": "7dc43dfa",
   "metadata": {},
   "outputs": [
    {
     "data": {
      "text/html": [
       "<div>\n",
       "<style scoped>\n",
       "    .dataframe tbody tr th:only-of-type {\n",
       "        vertical-align: middle;\n",
       "    }\n",
       "\n",
       "    .dataframe tbody tr th {\n",
       "        vertical-align: top;\n",
       "    }\n",
       "\n",
       "    .dataframe thead th {\n",
       "        text-align: right;\n",
       "    }\n",
       "</style>\n",
       "<table border=\"1\" class=\"dataframe\">\n",
       "  <thead>\n",
       "    <tr style=\"text-align: right;\">\n",
       "      <th></th>\n",
       "      <th>X</th>\n",
       "      <th>Y</th>\n",
       "      <th>Y_pred</th>\n",
       "      <th>SSR</th>\n",
       "      <th>SSD</th>\n",
       "      <th>SST</th>\n",
       "    </tr>\n",
       "  </thead>\n",
       "  <tbody>\n",
       "    <tr>\n",
       "      <th>0</th>\n",
       "      <td>0.827330</td>\n",
       "      <td>7.500894</td>\n",
       "      <td>6.571927</td>\n",
       "      <td>2.482294</td>\n",
       "      <td>0.862979</td>\n",
       "      <td>0.418044</td>\n",
       "    </tr>\n",
       "    <tr>\n",
       "      <th>1</th>\n",
       "      <td>0.040052</td>\n",
       "      <td>5.927190</td>\n",
       "      <td>5.076100</td>\n",
       "      <td>9.433238</td>\n",
       "      <td>0.724354</td>\n",
       "      <td>4.929589</td>\n",
       "    </tr>\n",
       "    <tr>\n",
       "      <th>2</th>\n",
       "      <td>6.210777</td>\n",
       "      <td>16.237098</td>\n",
       "      <td>16.800476</td>\n",
       "      <td>74.874728</td>\n",
       "      <td>0.317395</td>\n",
       "      <td>65.442283</td>\n",
       "    </tr>\n",
       "    <tr>\n",
       "      <th>3</th>\n",
       "      <td>1.775265</td>\n",
       "      <td>9.946543</td>\n",
       "      <td>8.373003</td>\n",
       "      <td>0.050871</td>\n",
       "      <td>2.476027</td>\n",
       "      <td>3.236710</td>\n",
       "    </tr>\n",
       "    <tr>\n",
       "      <th>4</th>\n",
       "      <td>4.128282</td>\n",
       "      <td>11.758976</td>\n",
       "      <td>12.843737</td>\n",
       "      <td>22.055040</td>\n",
       "      <td>1.176706</td>\n",
       "      <td>13.043067</td>\n",
       "    </tr>\n",
       "  </tbody>\n",
       "</table>\n",
       "</div>"
      ],
      "text/plain": [
       "          X          Y     Y_pred        SSR       SSD        SST\n",
       "0  0.827330   7.500894   6.571927   2.482294  0.862979   0.418044\n",
       "1  0.040052   5.927190   5.076100   9.433238  0.724354   4.929589\n",
       "2  6.210777  16.237098  16.800476  74.874728  0.317395  65.442283\n",
       "3  1.775265   9.946543   8.373003   0.050871  2.476027   3.236710\n",
       "4  4.128282  11.758976  12.843737  22.055040  1.176706  13.043067"
      ]
     },
     "execution_count": 13,
     "metadata": {},
     "output_type": "execute_result"
    }
   ],
   "source": [
    "data.head()"
   ]
  },
  {
   "cell_type": "code",
   "execution_count": 14,
   "id": "613a01cf",
   "metadata": {},
   "outputs": [],
   "source": [
    "SSR = data[\"SSR\"].sum()\n",
    "SSD = data[\"SSD\"].sum()\n",
    "SST = data[\"SST\"].sum()"
   ]
  },
  {
   "cell_type": "code",
   "execution_count": 15,
   "id": "5458c8d0",
   "metadata": {},
   "outputs": [
    {
     "data": {
      "text/plain": [
       "2050.1733957195875"
      ]
     },
     "execution_count": 15,
     "metadata": {},
     "output_type": "execute_result"
    }
   ],
   "source": [
    "SSR"
   ]
  },
  {
   "cell_type": "code",
   "execution_count": 16,
   "id": "9f72145a",
   "metadata": {},
   "outputs": [
    {
     "data": {
      "text/plain": [
       "60.169746200677835"
      ]
     },
     "execution_count": 16,
     "metadata": {},
     "output_type": "execute_result"
    }
   ],
   "source": [
    "SSD"
   ]
  },
  {
   "cell_type": "code",
   "execution_count": 17,
   "id": "5624534f",
   "metadata": {},
   "outputs": [
    {
     "data": {
      "text/plain": [
       "2139.8881142553473"
      ]
     },
     "execution_count": 17,
     "metadata": {},
     "output_type": "execute_result"
    }
   ],
   "source": [
    "SST"
   ]
  },
  {
   "cell_type": "code",
   "execution_count": 18,
   "id": "fbc23d9a",
   "metadata": {},
   "outputs": [
    {
     "data": {
      "text/plain": [
       "2110.343141920265"
      ]
     },
     "execution_count": 18,
     "metadata": {},
     "output_type": "execute_result"
    }
   ],
   "source": [
    "SSR+SSD"
   ]
  },
  {
   "cell_type": "code",
   "execution_count": 19,
   "id": "10523e00",
   "metadata": {},
   "outputs": [
    {
     "data": {
      "text/plain": [
       "0.958075042364082"
      ]
     },
     "execution_count": 19,
     "metadata": {},
     "output_type": "execute_result"
    }
   ],
   "source": [
    "R2 = SSR/SST\n",
    "R2"
   ]
  },
  {
   "cell_type": "code",
   "execution_count": 20,
   "id": "1767b5d2",
   "metadata": {},
   "outputs": [
    {
     "data": {
      "text/plain": [
       "(array([ 1.,  3.,  8., 11., 18., 24., 13., 11.,  7.,  4.]),\n",
       " array([-2.09212576, -1.70255253, -1.3129793 , -0.92340607, -0.53383283,\n",
       "        -0.1442596 ,  0.24531363,  0.63488686,  1.02446009,  1.41403333,\n",
       "         1.80360656]),\n",
       " <BarContainer object of 10 artists>)"
      ]
     },
     "execution_count": 20,
     "metadata": {},
     "output_type": "execute_result"
    },
    {
     "data": {
      "image/png": "[encoded data removed]",
      "text/plain": [
       "<Figure size 640x480 with 1 Axes>"
      ]
     },
     "metadata": {},
     "output_type": "display_data"
    }
   ],
   "source": [
    "plt.hist(data[\"Y_pred\"] - data[\"Y\"]) #Graficando la distribución del error"
   ]
  },
  {
   "cell_type": "markdown",
   "id": "9e3f76c0",
   "metadata": {},
   "source": [
    "### RECORDAR\n",
    "### SST = SSR + SSD"
   ]
  },
  {
   "cell_type": "markdown",
   "id": "80b44b18",
   "metadata": {},
   "source": [
    "## Obteniendo la recta de regresión lineal\n",
    "* y = a + b * x\n",
    "* b = sum((xi - x_m) * (yi - y_m))/sum(xi - x_m)^2\n",
    "* a = y_m - b * x_m"
   ]
  },
  {
   "cell_type": "code",
   "execution_count": 21,
   "id": "c020a6a7",
   "metadata": {},
   "outputs": [],
   "source": [
    "x_mean = np.mean(data[\"X\"])\n",
    "y_mean = np.mean(data[\"Y\"])"
   ]
  },
  {
   "cell_type": "code",
   "execution_count": 22,
   "id": "9925bd00",
   "metadata": {},
   "outputs": [
    {
     "data": {
      "text/plain": [
       "(1.6568785170009621, 8.147457249769598)"
      ]
     },
     "execution_count": 22,
     "metadata": {},
     "output_type": "execute_result"
    }
   ],
   "source": [
    "x_mean, y_mean "
   ]
  },
  {
   "cell_type": "code",
   "execution_count": 23,
   "id": "4638d259",
   "metadata": {},
   "outputs": [],
   "source": [
    "data[\"beta_n\"] = (data[\"X\"] - x_mean)*(data[\"Y\"] - y_mean) #Numerador Covarianza\n",
    "data[\"beta_d\"] = (data[\"X\"] - x_mean)**2 #Denominador Varianza"
   ]
  },
  {
   "cell_type": "code",
   "execution_count": 24,
   "id": "d3c9401c",
   "metadata": {},
   "outputs": [],
   "source": [
    "beta = sum(data[\"beta_n\"])/sum(data[\"beta_d\"])"
   ]
  },
  {
   "cell_type": "code",
   "execution_count": 25,
   "id": "f39d9881",
   "metadata": {},
   "outputs": [],
   "source": [
    "alpha = y_mean - beta*x_mean"
   ]
  },
  {
   "cell_type": "code",
   "execution_count": 26,
   "id": "0394fffd",
   "metadata": {},
   "outputs": [
    {
     "data": {
      "text/plain": [
       "(4.976704655772174, 1.9136904495186857)"
      ]
     },
     "execution_count": 26,
     "metadata": {},
     "output_type": "execute_result"
    }
   ],
   "source": [
    "alpha,beta #Coeficiencientes de la ecuación lineal"
   ]
  },
  {
   "cell_type": "markdown",
   "id": "0999c86e",
   "metadata": {},
   "source": [
    "El modelo lineal obtenido por regresión es:\n",
    "y = 5.152171243504449 + 1.8785280311026924 * x"
   ]
  },
  {
   "cell_type": "code",
   "execution_count": 27,
   "id": "9abad31a",
   "metadata": {},
   "outputs": [],
   "source": [
    "data[\"Y_model\"] = alpha + beta*data[\"X\"]"
   ]
  },
  {
   "cell_type": "code",
   "execution_count": 28,
   "id": "01457914",
   "metadata": {},
   "outputs": [
    {
     "data": {
      "text/html": [
       "<div>\n",
       "<style scoped>\n",
       "    .dataframe tbody tr th:only-of-type {\n",
       "        vertical-align: middle;\n",
       "    }\n",
       "\n",
       "    .dataframe tbody tr th {\n",
       "        vertical-align: top;\n",
       "    }\n",
       "\n",
       "    .dataframe thead th {\n",
       "        text-align: right;\n",
       "    }\n",
       "</style>\n",
       "<table border=\"1\" class=\"dataframe\">\n",
       "  <thead>\n",
       "    <tr style=\"text-align: right;\">\n",
       "      <th></th>\n",
       "      <th>X</th>\n",
       "      <th>Y</th>\n",
       "      <th>Y_pred</th>\n",
       "      <th>SSR</th>\n",
       "      <th>SSD</th>\n",
       "      <th>SST</th>\n",
       "      <th>beta_n</th>\n",
       "      <th>beta_d</th>\n",
       "      <th>Y_model</th>\n",
       "    </tr>\n",
       "  </thead>\n",
       "  <tbody>\n",
       "    <tr>\n",
       "      <th>0</th>\n",
       "      <td>0.827330</td>\n",
       "      <td>7.500894</td>\n",
       "      <td>6.571927</td>\n",
       "      <td>2.482294</td>\n",
       "      <td>0.862979</td>\n",
       "      <td>0.418044</td>\n",
       "      <td>0.536355</td>\n",
       "      <td>0.688150</td>\n",
       "      <td>6.559959</td>\n",
       "    </tr>\n",
       "    <tr>\n",
       "      <th>1</th>\n",
       "      <td>0.040052</td>\n",
       "      <td>5.927190</td>\n",
       "      <td>5.076100</td>\n",
       "      <td>9.433238</td>\n",
       "      <td>0.724354</td>\n",
       "      <td>4.929589</td>\n",
       "      <td>3.589787</td>\n",
       "      <td>2.614127</td>\n",
       "      <td>5.053353</td>\n",
       "    </tr>\n",
       "    <tr>\n",
       "      <th>2</th>\n",
       "      <td>6.210777</td>\n",
       "      <td>16.237098</td>\n",
       "      <td>16.800476</td>\n",
       "      <td>74.874728</td>\n",
       "      <td>0.317395</td>\n",
       "      <td>65.442283</td>\n",
       "      <td>36.839399</td>\n",
       "      <td>20.737988</td>\n",
       "      <td>16.862209</td>\n",
       "    </tr>\n",
       "    <tr>\n",
       "      <th>3</th>\n",
       "      <td>1.775265</td>\n",
       "      <td>9.946543</td>\n",
       "      <td>8.373003</td>\n",
       "      <td>0.050871</td>\n",
       "      <td>2.476027</td>\n",
       "      <td>3.236710</td>\n",
       "      <td>0.212987</td>\n",
       "      <td>0.014015</td>\n",
       "      <td>8.374012</td>\n",
       "    </tr>\n",
       "    <tr>\n",
       "      <th>4</th>\n",
       "      <td>4.128282</td>\n",
       "      <td>11.758976</td>\n",
       "      <td>12.843737</td>\n",
       "      <td>22.055040</td>\n",
       "      <td>1.176706</td>\n",
       "      <td>13.043067</td>\n",
       "      <td>8.925521</td>\n",
       "      <td>6.107837</td>\n",
       "      <td>12.876959</td>\n",
       "    </tr>\n",
       "  </tbody>\n",
       "</table>\n",
       "</div>"
      ],
      "text/plain": [
       "          X          Y     Y_pred        SSR       SSD        SST     beta_n  \\\n",
       "0  0.827330   7.500894   6.571927   2.482294  0.862979   0.418044   0.536355   \n",
       "1  0.040052   5.927190   5.076100   9.433238  0.724354   4.929589   3.589787   \n",
       "2  6.210777  16.237098  16.800476  74.874728  0.317395  65.442283  36.839399   \n",
       "3  1.775265   9.946543   8.373003   0.050871  2.476027   3.236710   0.212987   \n",
       "4  4.128282  11.758976  12.843737  22.055040  1.176706  13.043067   8.925521   \n",
       "\n",
       "      beta_d    Y_model  \n",
       "0   0.688150   6.559959  \n",
       "1   2.614127   5.053353  \n",
       "2  20.737988  16.862209  \n",
       "3   0.014015   8.374012  \n",
       "4   6.107837  12.876959  "
      ]
     },
     "execution_count": 28,
     "metadata": {},
     "output_type": "execute_result"
    }
   ],
   "source": [
    "data.head()"
   ]
  },
  {
   "cell_type": "code",
   "execution_count": 29,
   "id": "5862f738",
   "metadata": {},
   "outputs": [],
   "source": [
    "SSR = sum((data[\"Y_model\"] - y_mean)**2) \n",
    "SSD = sum((data[\"Y_model\"] - data[\"Y\"])**2)\n",
    "SST = sum((data[\"Y\"] - y_mean)**2)"
   ]
  },
  {
   "cell_type": "code",
   "execution_count": 30,
   "id": "3876939e",
   "metadata": {},
   "outputs": [
    {
     "data": {
      "text/plain": [
       "(2079.824848915967, 60.06326533937926, 2139.888114255347)"
      ]
     },
     "execution_count": 30,
     "metadata": {},
     "output_type": "execute_result"
    }
   ],
   "source": [
    "SSR, SSD, SST"
   ]
  },
  {
   "cell_type": "code",
   "execution_count": 31,
   "id": "50b6612c",
   "metadata": {},
   "outputs": [],
   "source": [
    "R2 = SSR/SST"
   ]
  },
  {
   "cell_type": "code",
   "execution_count": 32,
   "id": "bc5fc36f",
   "metadata": {},
   "outputs": [
    {
     "data": {
      "text/plain": [
       "0.9719315860772089"
      ]
     },
     "execution_count": 32,
     "metadata": {},
     "output_type": "execute_result"
    }
   ],
   "source": [
    "R2"
   ]
  },
  {
   "cell_type": "code",
   "execution_count": 33,
   "id": "021a1031",
   "metadata": {},
   "outputs": [
    {
     "data": {
      "text/plain": [
       "Text(0.5, 1.0, 'Valor Actual vs Predicción')"
      ]
     },
     "execution_count": 33,
     "metadata": {},
     "output_type": "execute_result"
    },
    {
     "data": {
      "image/png": "[encoded data removed]",
      "text/plain": [
       "<Figure size 640x480 with 1 Axes>"
      ]
     },
     "metadata": {},
     "output_type": "display_data"
    }
   ],
   "source": [
    "y_mean1 = [np.mean(data[\"Y\"]) for i in range(1,len(data)+1)]\n",
    "\n",
    "%matplotlib inline\n",
    "plt.plot(data[\"X\"], data[\"Y_pred\"])\n",
    "plt.plot(data[\"X\"], data[\"Y\"], \"ro\")\n",
    "plt.plot(data[\"X\"], y_mean1, \"g\")\n",
    "plt.plot(data[\"X\"], data[\"Y_model\"])\n",
    "plt.title(\"Valor Actual vs Predicción\")"
   ]
  },
  {
   "cell_type": "markdown",
   "id": "600c9638",
   "metadata": {},
   "source": [
    "## Error estándar de los residuos (RSE)"
   ]
  },
  {
   "cell_type": "markdown",
   "id": "1569c9be",
   "metadata": {},
   "source": [
    "* RSE es la desviación estándar del término del error (desviación de la parte de datos que el modelo no es capaz de explicar por falta de información o más datos adicionales)\n",
    "\n",
    "\n",
    "* RSE = raiz(SSD/n-2) Para regresión lineal --> n : número de datos\n",
    "* RSE = raiz(SSD/n-k-1) Para una regresión multiple --> n : número de datos,\n",
    "  k : número de variables predictoras"
   ]
  },
  {
   "cell_type": "code",
   "execution_count": 34,
   "id": "3e586a61",
   "metadata": {},
   "outputs": [],
   "source": [
    "RSE = np.sqrt(SSD/(len(data)-2))"
   ]
  },
  {
   "cell_type": "code",
   "execution_count": 35,
   "id": "d4a7fc02",
   "metadata": {},
   "outputs": [
    {
     "data": {
      "text/plain": [
       "0.7828732098154382"
      ]
     },
     "execution_count": 35,
     "metadata": {},
     "output_type": "execute_result"
    }
   ],
   "source": [
    "RSE"
   ]
  },
  {
   "cell_type": "code",
   "execution_count": 39,
   "id": "8c52e6ee",
   "metadata": {},
   "outputs": [
    {
     "data": {
      "text/plain": [
       "8.147457249769598"
      ]
     },
     "execution_count": 39,
     "metadata": {},
     "output_type": "execute_result"
    }
   ],
   "source": [
    "np.mean(data[\"Y\"]) #Promedio de los valores reales, columna \"Y\""
   ]
  },
  {
   "cell_type": "code",
   "execution_count": 44,
   "id": "17c5c93d",
   "metadata": {},
   "outputs": [
    {
     "data": {
      "text/plain": [
       "9.608804143618881"
      ]
     },
     "execution_count": 44,
     "metadata": {},
     "output_type": "execute_result"
    }
   ],
   "source": [
    "error_porcentaje = (RSE/np.mean(data[\"Y\"]))*100 #Porcentaje de error\n",
    "error_porcentaje # RSE/promedio datos reales"
   ]
  },
  {
   "cell_type": "code",
   "execution_count": null,
   "id": "655bf1ef",
   "metadata": {},
   "outputs": [],
   "source": []
  }
 ],
 "metadata": {
  "kernelspec": {
   "display_name": "Python 3 (ipykernel)",
   "language": "python",
   "name": "python3"
  },
  "language_info": {
   "codemirror_mode": {
    "name": "ipython",
    "version": 3
   },
   "file_extension": ".py",
   "mimetype": "text/x-python",
   "name": "python",
   "nbconvert_exporter": "python",
   "pygments_lexer": "ipython3",
   "version": "3.10.4"
  }
 },
 "nbformat": 4,
 "nbformat_minor": 5
}
