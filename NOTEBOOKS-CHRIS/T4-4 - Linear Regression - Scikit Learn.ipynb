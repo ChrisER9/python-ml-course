{
 "cells": [
  {
   "cell_type": "markdown",
   "id": "b9eef824",
   "metadata": {},
   "source": [
    "# Regresión Lineal en Python\n",
    "### El pauete scikit-learn para regresión lineal y la selección de rasgos - Variables Predictoras"
   ]
  },
  {
   "cell_type": "code",
   "execution_count": 1,
   "id": "6e03439e",
   "metadata": {},
   "outputs": [],
   "source": [
    "from sklearn.feature_selection import RFE\n",
    "from sklearn.svm import SVR\n",
    "import pandas as pd\n",
    "import numpy as np"
   ]
  },
  {
   "cell_type": "code",
   "execution_count": 2,
   "id": "9f7407a5",
   "metadata": {},
   "outputs": [],
   "source": [
    "data = pd.read_csv(\"../datasets/ads/Advertising.csv\")"
   ]
  },
  {
   "cell_type": "code",
   "execution_count": 3,
   "id": "5c2d8d54",
   "metadata": {},
   "outputs": [],
   "source": [
    "feature_cols = [\"TV\", \"Radio\", \"Newspaper\"] #Seleccionando la columnas\n",
    "#Que representan las variables predictivas"
   ]
  },
  {
   "cell_type": "code",
   "execution_count": 4,
   "id": "46e3e8e5",
   "metadata": {},
   "outputs": [],
   "source": [
    "X = data[feature_cols] #Variables predictoras seleccionadas del Dataframe\n",
    "Y = data[\"Sales\"] #Variable a Predecir seleecionada del Dataset"
   ]
  },
  {
   "cell_type": "code",
   "execution_count": 5,
   "id": "3665d09c",
   "metadata": {},
   "outputs": [],
   "source": [
    "estimador = SVR(kernel=\"linear\") #Con SVR determinamos el metodo linear -\n",
    "\n",
    "#Con RFE determinamos el numero de variables predictoras = 2 y los pasos=1\n",
    "selector = RFE(estimador, n_features_to_select=2, step=1) \n",
    "\n",
    "#Con el metodo .fit(X,Y) ajustamos la regresion añadiendo X(variables predictoras)\n",
    "# y Y(Variable a determinar)\n",
    "selector = selector.fit(X,Y)"
   ]
  },
  {
   "cell_type": "code",
   "execution_count": 6,
   "id": "3d5327e1",
   "metadata": {},
   "outputs": [
    {
     "data": {
      "text/plain": [
       "array([ True,  True, False])"
      ]
     },
     "execution_count": 6,
     "metadata": {},
     "output_type": "execute_result"
    }
   ],
   "source": [
    "selector.support_  #.support_  me indica que variables predictoras fueron \n",
    "#escogidas para la regresion lineal"
   ]
  },
  {
   "cell_type": "code",
   "execution_count": 7,
   "id": "74ac87d1",
   "metadata": {},
   "outputs": [
    {
     "data": {
      "text/plain": [
       "array([1, 1, 2])"
      ]
     },
     "execution_count": 7,
     "metadata": {},
     "output_type": "execute_result"
    }
   ],
   "source": [
    "selector.ranking_ #.ranking_ me indica el orden de prioridad de las varibles\n",
    "#predictoras para la regresion lineal"
   ]
  },
  {
   "cell_type": "markdown",
   "id": "022dd539",
   "metadata": {},
   "source": [
    "### Hallando el modelo que permita predecir con Sklearn"
   ]
  },
  {
   "cell_type": "code",
   "execution_count": 8,
   "id": "aa92b1b1",
   "metadata": {},
   "outputs": [],
   "source": [
    "from sklearn.linear_model import LinearRegression #Este paquete determina\n",
    "#Todo lo que se necesita para la regresion lineal"
   ]
  },
  {
   "cell_type": "code",
   "execution_count": 9,
   "id": "677ef54a",
   "metadata": {},
   "outputs": [],
   "source": [
    "x_pred = X[[\"TV\", \"Radio\"]] #Determinamos las variables predictoras entre []"
   ]
  },
  {
   "cell_type": "code",
   "execution_count": 10,
   "id": "50f659d9",
   "metadata": {},
   "outputs": [
    {
     "data": {
      "text/plain": [
       "LinearRegression()"
      ]
     },
     "execution_count": 10,
     "metadata": {},
     "output_type": "execute_result"
    }
   ],
   "source": [
    "lm = LinearRegression() #Determiamos un elemento de clase LinearRegression()\n",
    "lm.fit(x_pred, Y) #Ajustqmos lo anterior a las condiciones de x_pred e Y"
   ]
  },
  {
   "cell_type": "code",
   "execution_count": 11,
   "id": "c8e340df",
   "metadata": {},
   "outputs": [
    {
     "data": {
      "text/plain": [
       "2.9210999124051362"
      ]
     },
     "execution_count": 11,
     "metadata": {},
     "output_type": "execute_result"
    }
   ],
   "source": [
    "lm.intercept_ #Determinamos el parametro alpha con .intercept_"
   ]
  },
  {
   "cell_type": "code",
   "execution_count": 12,
   "id": "015a8809",
   "metadata": {},
   "outputs": [
    {
     "data": {
      "text/plain": [
       "array([0.04575482, 0.18799423])"
      ]
     },
     "execution_count": 12,
     "metadata": {},
     "output_type": "execute_result"
    }
   ],
   "source": [
    "lm.coef_ #Determinamos los parametros beta con .coef_"
   ]
  },
  {
   "cell_type": "code",
   "execution_count": 13,
   "id": "b91069c1",
   "metadata": {},
   "outputs": [
    {
     "data": {
      "text/plain": [
       "0.8971942610828957"
      ]
     },
     "execution_count": 13,
     "metadata": {},
     "output_type": "execute_result"
    }
   ],
   "source": [
    "lm.score(x_pred, Y) #Determinamos el R2 con .score() e ingreamos x_pred e Y"
   ]
  },
  {
   "cell_type": "code",
   "execution_count": null,
   "id": "ed612774",
   "metadata": {},
   "outputs": [],
   "source": []
  }
 ],
 "metadata": {
  "kernelspec": {
   "display_name": "Python 3 (ipykernel)",
   "language": "python",
   "name": "python3"
  },
  "language_info": {
   "codemirror_mode": {
    "name": "ipython",
    "version": 3
   },
   "file_extension": ".py",
   "mimetype": "text/x-python",
   "name": "python",
   "nbconvert_exporter": "python",
   "pygments_lexer": "ipython3",
   "version": "3.10.4"
  }
 },
 "nbformat": 4,
 "nbformat_minor": 5
}
