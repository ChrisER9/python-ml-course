{
 "cells": [
  {
   "cell_type": "markdown",
   "id": "ff5be3e6",
   "metadata": {},
   "source": [
    "# Dividir el dataset en conjunto de entrenamiento y de testing"
   ]
  },
  {
   "cell_type": "code",
   "execution_count": 1,
   "id": "91f0b1d2",
   "metadata": {},
   "outputs": [],
   "source": [
    "import pandas as pd\n",
    "import numpy as np\n",
    "import matplotlib.pyplot as plt"
   ]
  },
  {
   "cell_type": "code",
   "execution_count": 2,
   "id": "b818743a",
   "metadata": {},
   "outputs": [],
   "source": [
    "data = pd.read_csv(\"../datasets/ads/Advertising.csv\")"
   ]
  },
  {
   "cell_type": "code",
   "execution_count": 4,
   "id": "c74d9074",
   "metadata": {},
   "outputs": [
    {
     "name": "stdout",
     "output_type": "stream",
     "text": [
      "[ 1.84425783 -0.50830747  0.21487141  0.75409559  0.02120261 -0.29188662\n",
      "  0.77440684 -0.06700763  0.50150263 -0.57422326 -0.21972978 -0.23848144\n",
      " -1.25340533  0.8815105  -1.53833313  1.37767259  1.90606333  2.3624856\n",
      "  0.93248968  1.42397046 -0.22875244 -0.43286711  0.3661819  -0.38412947\n",
      " -0.75351454 -0.50813968  0.53345962 -0.01987088  0.58309761 -0.95884634\n",
      "  0.30056093 -0.70970437  0.68882165 -0.12009239  0.79489106  1.04386863\n",
      " -0.34384561 -1.28227582  0.22863179 -0.05092088  0.28894839  0.50072458\n",
      "  0.82728959  0.89759827 -0.15881837  0.52587661 -1.16393785 -0.80146619\n",
      "  0.3588661  -0.70988482  0.27764303  0.14975519  1.69685463 -0.25670623\n",
      "  0.25802692  1.14304039  1.01388295 -0.19999933 -0.23129358  1.1008027\n",
      "  0.19720737 -1.19033319 -0.07078576  0.05230776  0.95691479  1.56299989\n",
      "  0.41173209 -1.70884807  1.66951338  0.14676616  0.15355157  0.61533796\n",
      "  0.08603039  0.78881838 -0.93335099  0.67293282 -2.40553516  0.95106031\n",
      " -0.29162657 -0.81027448 -0.74528277  0.09182615  0.73730946 -1.57979772\n",
      "  0.05346579  2.21615451  0.10531387  1.37705182  0.74490568  0.81867452\n",
      "  1.11915082  1.24495737  0.58720596  0.65833161  0.83266307 -0.25622384\n",
      "  0.10233921 -0.56328868  1.25910482 -1.40880904  0.96914506 -0.92926981\n",
      "  1.27775499 -0.11563467 -0.84310421 -0.73116539 -0.58921015 -1.43973565\n",
      " -1.45403481 -1.65534408 -0.47997815  0.80313992 -1.03140867  0.65528306\n",
      "  0.6248136  -0.98524253  0.49299222  0.58333481 -0.35837621  0.99815409\n",
      "  0.91550177  1.11720927  0.60891739 -1.58741705  0.80519558  0.46670175\n",
      "  1.15838918 -0.39577421  0.56891478  1.85081672 -0.3788344   0.03609805\n",
      "  0.85939013 -0.30755107 -0.83394786  0.55686412  1.44351397  0.10741953\n",
      " -1.37366986 -2.48148341  0.09842071 -1.02764776 -0.1002053  -0.83107959\n",
      "  0.98689013  0.57807234  0.17050777 -0.77830047  1.98277742 -0.35664456\n",
      " -1.80251891  0.04743828  0.09829185  0.92205575  0.26045183 -0.06292417\n",
      " -0.1302531  -0.02182117 -3.12002244 -1.09517762 -0.96087922 -1.30817323\n",
      "  1.69824855 -0.43428348 -0.13517725 -0.61240031  1.45751862 -0.32324035\n",
      "  1.7311139  -1.83140253 -0.38847221 -0.75402461 -0.91581967 -1.52035369\n",
      " -0.06110295  0.36280398 -0.66596644  0.54316883  0.69087096  2.46791277\n",
      " -0.32578772  0.55559446 -1.58074871  1.07719782  0.55514039  0.02021719\n",
      "  1.21424263  1.15016039  1.24676444  0.15005618  0.80632308  0.50926125\n",
      "  0.180553   -0.29201657 -0.83184536  0.07488645 -0.31281066  0.26112963\n",
      "  1.82273482  0.38795348]\n"
     ]
    }
   ],
   "source": [
    "a = np.random.randn(len(data)) #Crearemos una variables que siga \n",
    "#Una distribución normal del tamaño de la cantidad de datos del dataset\n",
    "print(a)"
   ]
  },
  {
   "cell_type": "code",
   "execution_count": 5,
   "id": "580179fa",
   "metadata": {},
   "outputs": [
    {
     "data": {
      "text/plain": [
       "(array([ 1.,  2., 10., 17., 30., 50., 40., 32., 14.,  4.]),\n",
       " array([-3.12002244, -2.56122892, -2.0024354 , -1.44364187, -0.88484835,\n",
       "        -0.32605483,  0.23273869,  0.79153221,  1.35032573,  1.90911925,\n",
       "         2.46791277]),\n",
       " <BarContainer object of 10 artists>)"
      ]
     },
     "execution_count": 5,
     "metadata": {},
     "output_type": "execute_result"
    },
    {
     "data": {
      "image/png": "[encoded data removed]",
      "text/plain": [
       "<Figure size 640x480 with 1 Axes>"
      ]
     },
     "metadata": {},
     "output_type": "display_data"
    }
   ],
   "source": [
    "plt.hist(a)"
   ]
  },
  {
   "cell_type": "code",
   "execution_count": 6,
   "id": "942830b4",
   "metadata": {},
   "outputs": [],
   "source": [
    "check = (a<0.8) #Creamos una variable boleana con los valores menores de \"a\" menores a 0.8\n",
    "training = data[check] #Se escogera el 80% de los valores para entrenamiento\n",
    "testing = data[~check] # Se escogera el 20% de los valores para testing"
   ]
  },
  {
   "cell_type": "code",
   "execution_count": 7,
   "id": "2f3686c8",
   "metadata": {},
   "outputs": [
    {
     "data": {
      "text/plain": [
       "(151, 49)"
      ]
     },
     "execution_count": 7,
     "metadata": {},
     "output_type": "execute_result"
    }
   ],
   "source": [
    "len(training), len(testing)"
   ]
  },
  {
   "cell_type": "code",
   "execution_count": 8,
   "id": "eff5d4dc",
   "metadata": {},
   "outputs": [
    {
     "data": {
      "text/html": [
       "<div>\n",
       "<style scoped>\n",
       "    .dataframe tbody tr th:only-of-type {\n",
       "        vertical-align: middle;\n",
       "    }\n",
       "\n",
       "    .dataframe tbody tr th {\n",
       "        vertical-align: top;\n",
       "    }\n",
       "\n",
       "    .dataframe thead th {\n",
       "        text-align: right;\n",
       "    }\n",
       "</style>\n",
       "<table border=\"1\" class=\"dataframe\">\n",
       "  <thead>\n",
       "    <tr style=\"text-align: right;\">\n",
       "      <th></th>\n",
       "      <th>TV</th>\n",
       "      <th>Radio</th>\n",
       "      <th>Newspaper</th>\n",
       "      <th>Sales</th>\n",
       "    </tr>\n",
       "  </thead>\n",
       "  <tbody>\n",
       "    <tr>\n",
       "      <th>1</th>\n",
       "      <td>44.5</td>\n",
       "      <td>39.3</td>\n",
       "      <td>45.1</td>\n",
       "      <td>10.4</td>\n",
       "    </tr>\n",
       "    <tr>\n",
       "      <th>2</th>\n",
       "      <td>17.2</td>\n",
       "      <td>45.9</td>\n",
       "      <td>69.3</td>\n",
       "      <td>9.3</td>\n",
       "    </tr>\n",
       "    <tr>\n",
       "      <th>3</th>\n",
       "      <td>151.5</td>\n",
       "      <td>41.3</td>\n",
       "      <td>58.5</td>\n",
       "      <td>18.5</td>\n",
       "    </tr>\n",
       "    <tr>\n",
       "      <th>4</th>\n",
       "      <td>180.8</td>\n",
       "      <td>10.8</td>\n",
       "      <td>58.4</td>\n",
       "      <td>12.9</td>\n",
       "    </tr>\n",
       "    <tr>\n",
       "      <th>5</th>\n",
       "      <td>8.7</td>\n",
       "      <td>48.9</td>\n",
       "      <td>75.0</td>\n",
       "      <td>7.2</td>\n",
       "    </tr>\n",
       "  </tbody>\n",
       "</table>\n",
       "</div>"
      ],
      "text/plain": [
       "      TV  Radio  Newspaper  Sales\n",
       "1   44.5   39.3       45.1   10.4\n",
       "2   17.2   45.9       69.3    9.3\n",
       "3  151.5   41.3       58.5   18.5\n",
       "4  180.8   10.8       58.4   12.9\n",
       "5    8.7   48.9       75.0    7.2"
      ]
     },
     "execution_count": 8,
     "metadata": {},
     "output_type": "execute_result"
    }
   ],
   "source": [
    "training.head()"
   ]
  },
  {
   "cell_type": "code",
   "execution_count": 9,
   "id": "e0450127",
   "metadata": {},
   "outputs": [
    {
     "data": {
      "text/html": [
       "<div>\n",
       "<style scoped>\n",
       "    .dataframe tbody tr th:only-of-type {\n",
       "        vertical-align: middle;\n",
       "    }\n",
       "\n",
       "    .dataframe tbody tr th {\n",
       "        vertical-align: top;\n",
       "    }\n",
       "\n",
       "    .dataframe thead th {\n",
       "        text-align: right;\n",
       "    }\n",
       "</style>\n",
       "<table border=\"1\" class=\"dataframe\">\n",
       "  <thead>\n",
       "    <tr style=\"text-align: right;\">\n",
       "      <th></th>\n",
       "      <th>TV</th>\n",
       "      <th>Radio</th>\n",
       "      <th>Newspaper</th>\n",
       "      <th>Sales</th>\n",
       "    </tr>\n",
       "  </thead>\n",
       "  <tbody>\n",
       "    <tr>\n",
       "      <th>0</th>\n",
       "      <td>230.1</td>\n",
       "      <td>37.8</td>\n",
       "      <td>69.2</td>\n",
       "      <td>22.1</td>\n",
       "    </tr>\n",
       "    <tr>\n",
       "      <th>13</th>\n",
       "      <td>97.5</td>\n",
       "      <td>7.6</td>\n",
       "      <td>7.2</td>\n",
       "      <td>9.7</td>\n",
       "    </tr>\n",
       "    <tr>\n",
       "      <th>15</th>\n",
       "      <td>195.4</td>\n",
       "      <td>47.7</td>\n",
       "      <td>52.9</td>\n",
       "      <td>22.4</td>\n",
       "    </tr>\n",
       "    <tr>\n",
       "      <th>16</th>\n",
       "      <td>67.8</td>\n",
       "      <td>36.6</td>\n",
       "      <td>114.0</td>\n",
       "      <td>12.5</td>\n",
       "    </tr>\n",
       "    <tr>\n",
       "      <th>17</th>\n",
       "      <td>281.4</td>\n",
       "      <td>39.6</td>\n",
       "      <td>55.8</td>\n",
       "      <td>24.4</td>\n",
       "    </tr>\n",
       "  </tbody>\n",
       "</table>\n",
       "</div>"
      ],
      "text/plain": [
       "       TV  Radio  Newspaper  Sales\n",
       "0   230.1   37.8       69.2   22.1\n",
       "13   97.5    7.6        7.2    9.7\n",
       "15  195.4   47.7       52.9   22.4\n",
       "16   67.8   36.6      114.0   12.5\n",
       "17  281.4   39.6       55.8   24.4"
      ]
     },
     "execution_count": 9,
     "metadata": {},
     "output_type": "execute_result"
    }
   ],
   "source": [
    "testing.head()"
   ]
  },
  {
   "cell_type": "code",
   "execution_count": 10,
   "id": "702bd09d",
   "metadata": {},
   "outputs": [],
   "source": [
    "import statsmodels.formula.api as smf\n",
    "lm = smf.ols(formula=\"Sales~TV+Radio\", data=training).fit()"
   ]
  },
  {
   "cell_type": "code",
   "execution_count": 11,
   "id": "d4c2a296",
   "metadata": {},
   "outputs": [
    {
     "data": {
      "text/html": [
       "<table class=\"simpletable\">\n",
       "<caption>OLS Regression Results</caption>\n",
       "<tr>\n",
       "  <th>Dep. Variable:</th>          <td>Sales</td>      <th>  R-squared:         </th> <td>   0.890</td>\n",
       "</tr>\n",
       "<tr>\n",
       "  <th>Model:</th>                   <td>OLS</td>       <th>  Adj. R-squared:    </th> <td>   0.889</td>\n",
       "</tr>\n",
       "<tr>\n",
       "  <th>Method:</th>             <td>Least Squares</td>  <th>  F-statistic:       </th> <td>   598.7</td>\n",
       "</tr>\n",
       "<tr>\n",
       "  <th>Date:</th>             <td>Thu, 26 Jan 2023</td> <th>  Prob (F-statistic):</th> <td>1.15e-71</td>\n",
       "</tr>\n",
       "<tr>\n",
       "  <th>Time:</th>                 <td>15:34:20</td>     <th>  Log-Likelihood:    </th> <td> -290.90</td>\n",
       "</tr>\n",
       "<tr>\n",
       "  <th>No. Observations:</th>      <td>   151</td>      <th>  AIC:               </th> <td>   587.8</td>\n",
       "</tr>\n",
       "<tr>\n",
       "  <th>Df Residuals:</th>          <td>   148</td>      <th>  BIC:               </th> <td>   596.9</td>\n",
       "</tr>\n",
       "<tr>\n",
       "  <th>Df Model:</th>              <td>     2</td>      <th>                     </th>     <td> </td>   \n",
       "</tr>\n",
       "<tr>\n",
       "  <th>Covariance Type:</th>      <td>nonrobust</td>    <th>                     </th>     <td> </td>   \n",
       "</tr>\n",
       "</table>\n",
       "<table class=\"simpletable\">\n",
       "<tr>\n",
       "      <td></td>         <th>coef</th>     <th>std err</th>      <th>t</th>      <th>P>|t|</th>  <th>[0.025</th>    <th>0.975]</th>  \n",
       "</tr>\n",
       "<tr>\n",
       "  <th>Intercept</th> <td>    3.1818</td> <td>    0.335</td> <td>    9.485</td> <td> 0.000</td> <td>    2.519</td> <td>    3.845</td>\n",
       "</tr>\n",
       "<tr>\n",
       "  <th>TV</th>        <td>    0.0446</td> <td>    0.002</td> <td>   27.186</td> <td> 0.000</td> <td>    0.041</td> <td>    0.048</td>\n",
       "</tr>\n",
       "<tr>\n",
       "  <th>Radio</th>     <td>    0.1843</td> <td>    0.009</td> <td>   20.076</td> <td> 0.000</td> <td>    0.166</td> <td>    0.202</td>\n",
       "</tr>\n",
       "</table>\n",
       "<table class=\"simpletable\">\n",
       "<tr>\n",
       "  <th>Omnibus:</th>       <td>62.091</td> <th>  Durbin-Watson:     </th> <td>   2.017</td>\n",
       "</tr>\n",
       "<tr>\n",
       "  <th>Prob(Omnibus):</th> <td> 0.000</td> <th>  Jarque-Bera (JB):  </th> <td> 208.167</td>\n",
       "</tr>\n",
       "<tr>\n",
       "  <th>Skew:</th>          <td>-1.575</td> <th>  Prob(JB):          </th> <td>6.27e-46</td>\n",
       "</tr>\n",
       "<tr>\n",
       "  <th>Kurtosis:</th>      <td> 7.812</td> <th>  Cond. No.          </th> <td>    415.</td>\n",
       "</tr>\n",
       "</table><br/><br/>Notes:<br/>[1] Standard Errors assume that the covariance matrix of the errors is correctly specified."
      ],
      "text/plain": [
       "<class 'statsmodels.iolib.summary.Summary'>\n",
       "\"\"\"\n",
       "                            OLS Regression Results                            \n",
       "==============================================================================\n",
       "Dep. Variable:                  Sales   R-squared:                       0.890\n",
       "Model:                            OLS   Adj. R-squared:                  0.889\n",
       "Method:                 Least Squares   F-statistic:                     598.7\n",
       "Date:                Thu, 26 Jan 2023   Prob (F-statistic):           1.15e-71\n",
       "Time:                        15:34:20   Log-Likelihood:                -290.90\n",
       "No. Observations:                 151   AIC:                             587.8\n",
       "Df Residuals:                     148   BIC:                             596.9\n",
       "Df Model:                           2                                         \n",
       "Covariance Type:            nonrobust                                         \n",
       "==============================================================================\n",
       "                 coef    std err          t      P>|t|      [0.025      0.975]\n",
       "------------------------------------------------------------------------------\n",
       "Intercept      3.1818      0.335      9.485      0.000       2.519       3.845\n",
       "TV             0.0446      0.002     27.186      0.000       0.041       0.048\n",
       "Radio          0.1843      0.009     20.076      0.000       0.166       0.202\n",
       "==============================================================================\n",
       "Omnibus:                       62.091   Durbin-Watson:                   2.017\n",
       "Prob(Omnibus):                  0.000   Jarque-Bera (JB):              208.167\n",
       "Skew:                          -1.575   Prob(JB):                     6.27e-46\n",
       "Kurtosis:                       7.812   Cond. No.                         415.\n",
       "==============================================================================\n",
       "\n",
       "Notes:\n",
       "[1] Standard Errors assume that the covariance matrix of the errors is correctly specified.\n",
       "\"\"\""
      ]
     },
     "execution_count": 11,
     "metadata": {},
     "output_type": "execute_result"
    }
   ],
   "source": [
    "lm.summary()"
   ]
  },
  {
   "cell_type": "code",
   "execution_count": 12,
   "id": "117099a6",
   "metadata": {},
   "outputs": [
    {
     "data": {
      "text/plain": [
       "Intercept    3.181831\n",
       "TV           0.044595\n",
       "Radio        0.184296\n",
       "dtype: float64"
      ]
     },
     "execution_count": 12,
     "metadata": {},
     "output_type": "execute_result"
    }
   ],
   "source": [
    "lm.params"
   ]
  },
  {
   "cell_type": "markdown",
   "id": "75d21003",
   "metadata": {},
   "source": [
    "Sales = 3.181831 + 0.044595 * TV + 0.184296 * Radio"
   ]
  },
  {
   "cell_type": "markdown",
   "id": "c0ebeae2",
   "metadata": {},
   "source": [
    "## Validacion del modelo con el conjunto de testing"
   ]
  },
  {
   "cell_type": "code",
   "execution_count": 13,
   "id": "1ef632c8",
   "metadata": {},
   "outputs": [
    {
     "data": {
      "text/plain": [
       "0      20.409566\n",
       "13      8.930505\n",
       "15     20.686650\n",
       "16     12.950626\n",
       "17     23.029028\n",
       "18     10.045887\n",
       "19     14.155372\n",
       "35     16.901241\n",
       "42     21.379961\n",
       "43     13.956646\n",
       "52     20.517369\n",
       "55     21.156037\n",
       "56      8.686103\n",
       "59     18.014761\n",
       "64     16.916133\n",
       "65      7.972849\n",
       "68     18.836857\n",
       "77     13.807987\n",
       "85     15.188657\n",
       "87     15.600941\n",
       "89     16.887739\n",
       "90     10.074004\n",
       "91      4.733695\n",
       "94     10.551493\n",
       "98     23.896767\n",
       "100    13.892255\n",
       "102    17.538770\n",
       "111    20.963728\n",
       "119     6.995718\n",
       "120    14.422261\n",
       "121     8.019450\n",
       "124    19.369179\n",
       "126    10.698802\n",
       "129     8.051255\n",
       "132     8.569291\n",
       "136    11.511024\n",
       "144    10.199465\n",
       "148    12.303589\n",
       "153    18.137537\n",
       "162    14.919312\n",
       "166    10.909627\n",
       "168    17.137009\n",
       "179    12.409743\n",
       "183    23.932125\n",
       "186     9.789869\n",
       "187    16.993260\n",
       "188    18.497748\n",
       "190    12.517918\n",
       "198    23.569448\n",
       "dtype: float64"
      ]
     },
     "execution_count": 13,
     "metadata": {},
     "output_type": "execute_result"
    }
   ],
   "source": [
    "sales_pred = lm.predict(testing) #Predeccion de las ventas de las variables del testing\n",
    "sales_pred"
   ]
  },
  {
   "cell_type": "code",
   "execution_count": 14,
   "id": "be5f71e3",
   "metadata": {},
   "outputs": [
    {
     "data": {
      "text/plain": [
       "142.8995243767626"
      ]
     },
     "execution_count": 14,
     "metadata": {},
     "output_type": "execute_result"
    }
   ],
   "source": [
    "SSD = sum((testing[\"Sales\"] - sales_pred)**2) # Suma de los cuadrados de la diferencia\n",
    "SSD"
   ]
  },
  {
   "cell_type": "code",
   "execution_count": 15,
   "id": "ec8ce529",
   "metadata": {},
   "outputs": [
    {
     "data": {
      "text/plain": [
       "1.7625298293915026"
      ]
     },
     "execution_count": 15,
     "metadata": {},
     "output_type": "execute_result"
    }
   ],
   "source": [
    "RSE = np.sqrt(SSD/(len(testing)-2-1))\n",
    "RSE "
   ]
  },
  {
   "cell_type": "code",
   "execution_count": 16,
   "id": "9f20bc66",
   "metadata": {},
   "outputs": [
    {
     "data": {
      "text/plain": [
       "14.81224489795918"
      ]
     },
     "execution_count": 16,
     "metadata": {},
     "output_type": "execute_result"
    }
   ],
   "source": [
    "sales_mean = np.mean(testing[\"Sales\"])\n",
    "sales_mean"
   ]
  },
  {
   "cell_type": "code",
   "execution_count": 17,
   "id": "858d8723",
   "metadata": {},
   "outputs": [
    {
     "data": {
      "text/plain": [
       "11.899140485007392"
      ]
     },
     "execution_count": 17,
     "metadata": {},
     "output_type": "execute_result"
    }
   ],
   "source": [
    "error = RSE/sales_mean\n",
    "error*100"
   ]
  },
  {
   "cell_type": "code",
   "execution_count": null,
   "id": "8b00303d",
   "metadata": {},
   "outputs": [],
   "source": []
  }
 ],
 "metadata": {
  "kernelspec": {
   "display_name": "Python 3 (ipykernel)",
   "language": "python",
   "name": "python3"
  },
  "language_info": {
   "codemirror_mode": {
    "name": "ipython",
    "version": 3
   },
   "file_extension": ".py",
   "mimetype": "text/x-python",
   "name": "python",
   "nbconvert_exporter": "python",
   "pygments_lexer": "ipython3",
   "version": "3.10.4"
  }
 },
 "nbformat": 4,
 "nbformat_minor": 5
}
